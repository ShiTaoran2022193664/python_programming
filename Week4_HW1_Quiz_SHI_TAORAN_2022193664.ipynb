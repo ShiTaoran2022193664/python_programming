{
  "nbformat": 4,
  "nbformat_minor": 0,
  "metadata": {
    "kernelspec": {
      "display_name": "Python 3",
      "language": "python",
      "name": "python3"
    },
    "language_info": {
      "codemirror_mode": {
        "name": "ipython",
        "version": 3
      },
      "file_extension": ".py",
      "mimetype": "text/x-python",
      "name": "python",
      "nbconvert_exporter": "python",
      "pygments_lexer": "ipython3",
      "version": "3.6.8"
    },
    "colab": {
      "provenance": [],
      "include_colab_link": true
    }
  },
  "cells": [
    {
      "cell_type": "markdown",
      "metadata": {
        "id": "view-in-github",
        "colab_type": "text"
      },
      "source": [
        "<a href=\"https://colab.research.google.com/github/ShiTaoran2022193664/python_programming/blob/main/Week4_HW1_Quiz_SHI_TAORAN_2022193664.ipynb\" target=\"_parent\"><img src=\"https://colab.research.google.com/assets/colab-badge.svg\" alt=\"Open In Colab\"/></a>"
      ]
    },
    {
      "cell_type": "markdown",
      "metadata": {
        "id": "3IC26T7bIoQK"
      },
      "source": [
        "<h2 id=\"quiz\">Quiz on Conditions</h2>"
      ]
    },
    {
      "cell_type": "markdown",
      "metadata": {
        "id": "mt0VcGaoIoQK"
      },
      "source": [
        "Write an if statement to determine if an album had a rating greater than 8. Test it using the rating for the album <b>“Back in Black”</b> that had a rating of 8.5. If the statement is true print \"This album is Amazing!\""
      ]
    },
    {
      "cell_type": "code",
      "metadata": {
        "id": "uM3HRp4iIoQK",
        "outputId": "2dbe8618-00ef-4fd4-9455-d86ae27413f2",
        "colab": {
          "base_uri": "https://localhost:8080/"
        }
      },
      "source": [
        "# Write your code below and press Shift+Enter to execute\n",
        "album = 8.5\n",
        "if album > 8:\n",
        "  print(\"This album is Amazing!\")\n"
      ],
      "execution_count": null,
      "outputs": [
        {
          "output_type": "stream",
          "name": "stdout",
          "text": [
            "This album is Amazing!\n"
          ]
        }
      ]
    },
    {
      "cell_type": "markdown",
      "metadata": {
        "id": "2qou3rDyIoQN"
      },
      "source": [
        "Double-click __here__ for the solution.\n",
        "\n",
        "<!--\n",
        "rating = 8.5\n",
        "if rating > 8:\n",
        "    print (\"This album is Amazing!\")\n",
        " -->"
      ]
    },
    {
      "cell_type": "markdown",
      "metadata": {
        "id": "ZNLbLpM8IoQO"
      },
      "source": [
        "<hr>"
      ]
    },
    {
      "cell_type": "markdown",
      "metadata": {
        "id": "PtR5F1i3IoQO"
      },
      "source": [
        "Write an if-else statement that performs the following. If the rating is larger then eight print “this album is amazing”. If the rating is less than or equal to 8 print “this album is ok”."
      ]
    },
    {
      "cell_type": "code",
      "metadata": {
        "id": "s4NbZlNLIoQO",
        "outputId": "cdce7105-d56b-4e06-edd9-8a2da36d47f9",
        "colab": {
          "base_uri": "https://localhost:8080/"
        }
      },
      "source": [
        "# Write your code below and press Shift+Enter to execute\n",
        "album = 8\n",
        "if album > 8:\n",
        "  print(\"This album is Amazing!\")\n",
        "else:\n",
        "  print(\"this album is ok\")"
      ],
      "execution_count": null,
      "outputs": [
        {
          "output_type": "stream",
          "name": "stdout",
          "text": [
            "this album is ok\n"
          ]
        }
      ]
    },
    {
      "cell_type": "markdown",
      "metadata": {
        "id": "eIO85U1HIoQR"
      },
      "source": [
        "Double-click __here__ for the solution.\n",
        "\n",
        "<!--\n",
        "rating = 8.5\n",
        "if rating > 8:\n",
        "    print (\"this album is amazing\")\n",
        "else:\n",
        "    print (\"this album is ok\")\n",
        "-->"
      ]
    },
    {
      "cell_type": "markdown",
      "metadata": {
        "id": "Ickq5nDuIoQR"
      },
      "source": [
        "<hr>"
      ]
    },
    {
      "cell_type": "markdown",
      "metadata": {
        "id": "xlvACVa3IoQS"
      },
      "source": [
        "Write an if statement to determine if an album came out before 1980 or in the years: 1991 or 1993. If the condition is true print out the year the album came out."
      ]
    },
    {
      "cell_type": "code",
      "metadata": {
        "id": "w0ys9FArIoQS",
        "outputId": "f4dcaf67-1f9c-4892-ab41-b9fa307297a1",
        "colab": {
          "base_uri": "https://localhost:8080/"
        }
      },
      "source": [
        "# Write your code below and press Shift+Enter to execute\n",
        "year=1993\n",
        "if year < 1980 or year==1991 or year==1993:\n",
        "  print(year)\n"
      ],
      "execution_count": 4,
      "outputs": [
        {
          "output_type": "stream",
          "name": "stdout",
          "text": [
            "1993\n"
          ]
        }
      ]
    },
    {
      "cell_type": "markdown",
      "metadata": {
        "id": "W9xtMYLcIoQU"
      },
      "source": [
        "Double-click __here__ for the solution.\n",
        "\n",
        "<!--\n",
        "album_year = 1979\n",
        "\n",
        "if album_year < 1980 or album_year == 1991 or album_year == 1993:\n",
        "    print (\"this album came out already\")\n",
        "-->"
      ]
    }
  ]
}